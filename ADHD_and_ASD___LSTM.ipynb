{
  "cells": [
    {
      "cell_type": "markdown",
      "metadata": {
        "id": "view-in-github",
        "colab_type": "text"
      },
      "source": [
        "<a href=\"https://colab.research.google.com/github/azademozhdefarahbakhsh/Psychopy_Experiment1/blob/main/ADHD_and_ASD___LSTM.ipynb\" target=\"_parent\"><img src=\"https://colab.research.google.com/assets/colab-badge.svg\" alt=\"Open In Colab\"/></a>"
      ]
    },
    {
      "cell_type": "code",
      "execution_count": null,
      "metadata": {
        "colab": {
          "base_uri": "https://localhost:8080/"
        },
        "id": "iEPvKJxiHIKF",
        "outputId": "3b614527-42df-427c-87e0-336f27418efe"
      },
      "outputs": [
        {
          "name": "stdout",
          "output_type": "stream",
          "text": [
            "Collecting nilearn\n",
            "\u001b[?25l  Downloading https://files.pythonhosted.org/packages/4a/bd/2ad86e2c00ecfe33b86f9f1f6d81de8e11724e822cdf1f5b2d0c21b787f1/nilearn-0.7.1-py3-none-any.whl (3.0MB)\n",
            "\u001b[K     |████████████████████████████████| 3.1MB 2.8MB/s \n",
            "\u001b[?25hRequirement already satisfied: nibabel>=2.0.2 in /usr/local/lib/python3.7/dist-packages (from nilearn) (3.0.2)\n",
            "Requirement already satisfied: pandas>=0.18.0 in /usr/local/lib/python3.7/dist-packages (from nilearn) (1.1.5)\n",
            "Requirement already satisfied: joblib>=0.12 in /usr/local/lib/python3.7/dist-packages (from nilearn) (1.0.1)\n",
            "Requirement already satisfied: scipy>=0.19 in /usr/local/lib/python3.7/dist-packages (from nilearn) (1.4.1)\n",
            "Requirement already satisfied: numpy>=1.11 in /usr/local/lib/python3.7/dist-packages (from nilearn) (1.19.5)\n",
            "Requirement already satisfied: requests>=2 in /usr/local/lib/python3.7/dist-packages (from nilearn) (2.23.0)\n",
            "Requirement already satisfied: scikit-learn>=0.19 in /usr/local/lib/python3.7/dist-packages (from nilearn) (0.22.2.post1)\n",
            "Requirement already satisfied: pytz>=2017.2 in /usr/local/lib/python3.7/dist-packages (from pandas>=0.18.0->nilearn) (2018.9)\n",
            "Requirement already satisfied: python-dateutil>=2.7.3 in /usr/local/lib/python3.7/dist-packages (from pandas>=0.18.0->nilearn) (2.8.1)\n",
            "Requirement already satisfied: idna<3,>=2.5 in /usr/local/lib/python3.7/dist-packages (from requests>=2->nilearn) (2.10)\n",
            "Requirement already satisfied: chardet<4,>=3.0.2 in /usr/local/lib/python3.7/dist-packages (from requests>=2->nilearn) (3.0.4)\n",
            "Requirement already satisfied: certifi>=2017.4.17 in /usr/local/lib/python3.7/dist-packages (from requests>=2->nilearn) (2020.12.5)\n",
            "Requirement already satisfied: urllib3!=1.25.0,!=1.25.1,<1.26,>=1.21.1 in /usr/local/lib/python3.7/dist-packages (from requests>=2->nilearn) (1.24.3)\n",
            "Requirement already satisfied: six>=1.5 in /usr/local/lib/python3.7/dist-packages (from python-dateutil>=2.7.3->pandas>=0.18.0->nilearn) (1.15.0)\n",
            "Installing collected packages: nilearn\n",
            "Successfully installed nilearn-0.7.1\n"
          ]
        }
      ],
      "source": [
        "pip install nilearn"
      ]
    },
    {
      "cell_type": "code",
      "execution_count": null,
      "metadata": {
        "colab": {
          "base_uri": "https://localhost:8080/"
        },
        "id": "4ZfCgexNHCdx",
        "outputId": "a898a2b5-93b8-4752-dd82-2a7017fe0732"
      },
      "outputs": [
        {
          "name": "stdout",
          "output_type": "stream",
          "text": [
            "Requirement already satisfied: nibabel in /usr/local/lib/python3.7/dist-packages (3.0.2)\n",
            "Requirement already satisfied: numpy>=1.12 in /usr/local/lib/python3.7/dist-packages (from nibabel) (1.19.5)\n"
          ]
        }
      ],
      "source": [
        "pip install nibabel"
      ]
    },
    {
      "cell_type": "code",
      "execution_count": null,
      "metadata": {
        "colab": {
          "base_uri": "https://localhost:8080/"
        },
        "id": "kDdZLGzHTHzU",
        "outputId": "e2dfa41a-bbe4-4044-a33c-de04ee34b22d"
      },
      "outputs": [
        {
          "name": "stderr",
          "output_type": "stream",
          "text": [
            "/usr/local/lib/python3.7/dist-packages/nilearn/datasets/__init__.py:90: FutureWarning: Fetchers from the nilearn.datasets module will be updated in version 0.9 to return python strings instead of bytes and Pandas dataframes instead of Numpy arrays.\n",
            "  \"Numpy arrays.\", FutureWarning)\n"
          ]
        }
      ],
      "source": [
        "import matplotlib.pyplot as plt\n",
        "import nilearn\n",
        "from nilearn.image import load_img\n",
        "from nilearn import datasets\n",
        "import nibabel as nib\n",
        "from sklearn.model_selection import train_test_split\n",
        "import numpy as np\n",
        "from sklearn.metrics import roc_curve\n",
        "from sklearn.metrics import confusion_matrix\n",
        "from sklearn.metrics import classification_report\n",
        "import pandas as pd\n",
        "from nilearn import plotting\n",
        "from nilearn import image\n",
        "from nilearn.image import load_img\n",
        "from nilearn import input_data\n",
        "import random\n",
        "from nilearn.datasets import fetch_adhd\n",
        "from nilearn.connectome import ConnectivityMeasure\n",
        ""
      ]
    },
    {
      "cell_type": "code",
      "execution_count": null,
      "metadata": {
        "id": "OaNJ7aIuTK1X"
      },
      "outputs": [],
      "source": [
        "def NetPlot(net_histories,n_epch):\n",
        "    import numpy as np\n",
        "    import matplotlib.pyplot as plt\n",
        "\n",
        "    losses=[]\n",
        "    val_losses=[]\n",
        "    accuracies=[]\n",
        "    val_accuracies=[]\n",
        "\n",
        "    for item in net_histories:\n",
        "\n",
        "        history=item.history\n",
        "        loss=history['loss']\n",
        "        val_loss=history['val_loss']\n",
        "        accuracy=history['accuracy']\n",
        "        val_accuracy=history['val_accuracy']\n",
        "\n",
        "        losses.append(loss)\n",
        "        val_losses.append(val_loss)\n",
        "        accuracies.append(accuracy)\n",
        "        val_accuracies.append(val_accuracy)\n",
        "\n",
        "\n",
        "    losses2=np.zeros((1,n_epch))\n",
        "    val_losses2=np.zeros((1,n_epch))\n",
        "    accuracies2=np.zeros((1,n_epch))\n",
        "    val_accuracies2=np.zeros((1,n_epch))\n",
        "\n",
        "    for i in losses:\n",
        "        losses2+=i\n",
        "\n",
        "    for i in val_losses:\n",
        "        val_losses2+=i\n",
        "\n",
        "    for i in accuracies:\n",
        "        accuracies2+=i\n",
        "\n",
        "    for i in val_accuracies:\n",
        "        val_accuracies2+=i\n",
        "\n",
        "\n",
        "    # 10 is number of folds\n",
        "    losses2=(losses2/10).flatten()\n",
        "    accuracies2=(accuracies2/10).flatten()\n",
        "    val_losses2=(val_losses2/10).flatten()\n",
        "    val_accuracies2=(val_accuracies2/10).flatten()\n",
        "\n",
        "    plt.figure('Accracy Diagram')\n",
        "    plt.xlabel('Epochs')\n",
        "    plt.ylabel('Accuracy')\n",
        "    plt.plot(accuracies2,color='black')\n",
        "    plt.plot(val_accuracies2,color='blue')\n",
        "    plt.legend(['Train Data','Validation Data'])\n",
        "    #plt.savefig('Accracy Diagram')\n",
        "    plt.show()\n",
        "\n",
        "    plt.figure('Loss Diagram')\n",
        "    plt.xlabel('Epochs')\n",
        "    plt.ylabel('Loss')\n",
        "    plt.plot(losses2,color='black')\n",
        "    plt.plot(val_losses2,color='blue')\n",
        "    plt.legend(['Train Data','Validation Data'])\n",
        "    #plt.savefig('Loss Diagram')\n",
        "    plt.show()"
      ]
    },
    {
      "cell_type": "code",
      "execution_count": null,
      "metadata": {
        "colab": {
          "background_save": true,
          "base_uri": "https://localhost:8080/"
        },
        "id": "ClpKVVygTPfB",
        "outputId": "a94624f9-1770-47b0-bd49-4dff31c4b08d"
      },
      "outputs": [
        {
          "name": "stderr",
          "output_type": "stream",
          "text": [
            "/usr/local/lib/python3.7/dist-packages/nilearn/datasets/func.py:459: VisibleDeprecationWarning: Reading unicode strings without specifying the encoding argument is deprecated. Set the encoding, use None for the system default.\n",
            "  dtype=None)\n",
            "/usr/local/lib/python3.7/dist-packages/numpy/lib/npyio.py:2349: VisibleDeprecationWarning: Reading unicode strings without specifying the encoding argument is deprecated. Set the encoding, use None for the system default.\n",
            "  output = genfromtxt(fname, **kwargs)\n",
            "/usr/local/lib/python3.7/dist-packages/numpy/lib/npyio.py:2349: VisibleDeprecationWarning: Reading unicode strings without specifying the encoding argument is deprecated. Set the encoding, use None for the system default.\n",
            "  output = genfromtxt(fname, **kwargs)\n"
          ]
        },
        {
          "ename": "AttributeError",
          "evalue": "ignored",
          "output_type": "error",
          "traceback": [
            "\u001b[0;31m---------------------------------------------------------------------------\u001b[0m",
            "\u001b[0;31mAttributeError\u001b[0m                            Traceback (most recent call last)",
            "\u001b[0;32m<ipython-input-11-07b24b6f79ce>\u001b[0m in \u001b[0;36m<module>\u001b[0;34m()\u001b[0m\n\u001b[1;32m    107\u001b[0m \u001b[0;34m\u001b[0m\u001b[0m\n\u001b[1;32m    108\u001b[0m   \u001b[0;31m# Converts class vectors to binary class matrices.\u001b[0m\u001b[0;34m\u001b[0m\u001b[0;34m\u001b[0m\u001b[0;34m\u001b[0m\u001b[0m\n\u001b[0;32m--> 109\u001b[0;31m   \u001b[0my_train\u001b[0m \u001b[0;34m=\u001b[0m \u001b[0mutils\u001b[0m\u001b[0;34m.\u001b[0m\u001b[0mto_categorical\u001b[0m\u001b[0;34m(\u001b[0m\u001b[0my_train\u001b[0m\u001b[0;34m,\u001b[0m \u001b[0;36m2\u001b[0m\u001b[0;34m)\u001b[0m\u001b[0;34m\u001b[0m\u001b[0;34m\u001b[0m\u001b[0m\n\u001b[0m\u001b[1;32m    110\u001b[0m   \u001b[0my_test\u001b[0m \u001b[0;34m=\u001b[0m \u001b[0mutils\u001b[0m\u001b[0;34m.\u001b[0m\u001b[0mto_categorical\u001b[0m\u001b[0;34m(\u001b[0m\u001b[0my_test\u001b[0m\u001b[0;34m,\u001b[0m \u001b[0;36m2\u001b[0m\u001b[0;34m)\u001b[0m\u001b[0;34m\u001b[0m\u001b[0;34m\u001b[0m\u001b[0m\n",
            "\u001b[0;31mAttributeError\u001b[0m: module 'keras.utils' has no attribute 'to_categorical'"
          ]
        }
      ],
      "source": [
        "adhd=fetch_adhd(n_subjects=40)\n",
        "msdl_atlas=datasets.fetch_atlas_msdl()\n",
        "masker=input_data.NiftiMapsMasker(msdl_atlas.maps,resampling_target='data',t_r=2,detrend=True,low_pass=0.1,high_pass=0.01,standardize=True,\n",
        "                        verbose=0).fit()\n",
        "correlation_meassure=ConnectivityMeasure(kind='correlation')\n",
        "\n",
        "lst_adhd=[]\n",
        "lst_label_adhd=[]\n",
        "for func_file,confound_file,phenotypic_file_ad in zip(adhd.func,adhd.confounds,adhd.phenotypic):\n",
        "    time_series_adh=masker.transform(func_file,confounds=confound_file)\n",
        "    lst_adhd.append(time_series_adh)\n",
        "    lst_label_adhd.append(0)\n",
        "\n",
        "\n",
        "from nilearn import datasets\n",
        "from nilearn.datasets import fetch_abide_pcp\n",
        "\n",
        "autsm=fetch_abide_pcp(data_dir=None, n_subjects=40, pipeline='cpac',\n",
        "                                        band_pass_filtering=False, global_signal_regression=False,\n",
        "                                        derivatives=['func_preproc'], quality_checked=True, url=None, verbose=1, DX_GROUP=1)\n",
        "\n",
        "lst_autsm=[]\n",
        "lst_label_autsm=[]\n",
        "for func_preproc_file,phenotypic_file in zip(autsm.func_preproc,autsm.phenotypic):\n",
        "    time_series_aut=masker.transform(func_preproc_file)\n",
        "    lst_autsm.append(time_series_aut)\n",
        "    lst_label_autsm.append(1)\n",
        "\n",
        "\n",
        "lst_label_adhd.extend(lst_label_autsm)\n",
        "lst_adhd.extend(lst_autsm)\n",
        "\n",
        "\n",
        "\n",
        "\n",
        "from keras import utils\n",
        "\n",
        "max_len_image=np.max([len(i) for i in lst_adhd])\n",
        "\n",
        "# reshape all data\n",
        "lst_adhd_reshaped=[]\n",
        "for subject_data in lst_adhd:\n",
        "  # Padding\n",
        "  N= max_len_image-len(subject_data)\n",
        "  padded_array=np.pad(subject_data, ((0, N), (0,0)),\n",
        "                      'constant', constant_values=(0))\n",
        "  subject_data=padded_array\n",
        "  subject_data=np.array(subject_data)\n",
        "  subject_data.reshape(subject_data.shape[0],subject_data.shape[1],1)\n",
        "  lst_adhd_reshaped.append(subject_data)\n",
        "\n",
        "\n",
        "\n",
        "\n",
        "t_shape=np.array(lst_adhd_reshaped).shape[1]\n",
        "RSN_shape=np.array(lst_adhd_reshaped).shape[2]\n",
        "\n",
        "\n",
        "\n",
        "\n",
        "\n",
        "x_data=lst_adhd_reshaped\n",
        "y_data=lst_label_adhd\n",
        "\n",
        "x_data=np.array(x_data)\n",
        "y_data=np.array(y_data)\n",
        "\n",
        "\n",
        "\n",
        "n_epchs=60\n",
        "counter=1\n",
        "lst_loss=[]\n",
        "lst_acc=[]\n",
        "lst_reports=[]\n",
        "lst_AUC=[]\n",
        "lst_matrix=[]\n",
        "lst_histories=[]\n",
        "\n",
        "from sklearn.model_selection import KFold\n",
        "kfold=KFold(10,random_state=0,shuffle=True)\n",
        "for train,test in kfold.split(x_data,y_data):\n",
        "\n",
        "  X_train=x_data[train]\n",
        "  X_test=x_data[test]\n",
        "  y_train=y_data[train]\n",
        "  y_test=y_data[test]\n",
        "\n",
        "\n",
        "  '''\n",
        "\n",
        "  '''\n",
        "\n",
        "\n",
        "\n",
        "  # Reshapes data to 3D for Hierarchical RNN.\n",
        "  t_shape=np.array(lst_adhd_reshaped).shape[1]\n",
        "  RSN_shape=np.array(lst_adhd_reshaped).shape[2]\n",
        "\n",
        "  X_train = np.reshape(X_train, (len(X_train), t_shape, RSN_shape))\n",
        "  X_test = np.reshape(X_test, (len(X_test), t_shape, RSN_shape))\n",
        "\n",
        "  # enforce continuous labeling\n",
        "  X_train = X_train.astype('float32')\n",
        "  X_test = X_test.astype('float32')\n",
        "\n",
        "\n",
        "\n",
        "  # Converts class vectors to binary class matrices.\n",
        "  y_train = utils.to_categorical(y_train, 2)\n",
        "  y_test = utils.to_categorical(y_test, 2)\n"
      ]
    },
    {
      "cell_type": "code",
      "execution_count": null,
      "metadata": {
        "id": "PHnC4zEETUSC"
      },
      "outputs": [],
      "source": [
        "  # create the model\n",
        "\n",
        "\n",
        "  print ('_____________entering neural network_____________')\n",
        "\n",
        "  from keras.models import Sequential\n",
        "  from keras.layers import LSTM,Dense,Conv1D,TimeDistributed,Flatten,Dropout,MaxPooling1D,BatchNormalization\n",
        "  from keras.optimizers import Adam,SGD\n",
        "  from keras.losses import mse,binary_crossentropy,hinge\n",
        "  from keras.regularizers import l1,l2\n",
        "\n",
        "  from keras.callbacks import EarlyStopping\n",
        "  from keras import backend as K"
      ]
    },
    {
      "cell_type": "code",
      "execution_count": null,
      "metadata": {
        "id": "0GpHRXU9TYAm"
      },
      "outputs": [],
      "source": [
        "  model = Sequential()\n",
        "  model.add(LSTM(units=512, # dimensionality of the output space\n",
        "               dropout=0.4, # Fraction of the units to drop (inputs)\n",
        "               #recurrent_dropout=0.15, # Fraction of the units to drop (recurent state)\n",
        "               return_sequences=True,input_shape=(t_shape,RSN_shape) # return the last state in addition to the output\n",
        "               ))\n",
        "\n",
        "  model.add(LSTM(units=256,\n",
        "               dropout=0.4,\n",
        "               #recurrent_dropout=0.15,\n",
        "               return_sequences=True))\n",
        "\n",
        "  model.add(LSTM(units=128,\n",
        "               dropout=0.4,\n",
        "               #recurrent_dropout=0.15,\n",
        "               return_sequences=True))\n",
        "\n",
        "\n",
        "  model.add(LSTM(units=64,\n",
        "               dropout=0.4,\n",
        "               #recurrent_dropout=0.15,\n",
        "               return_sequences=False))\n",
        "\n",
        "\n",
        "  model.add(Dense(units=2,\n",
        "                activation=\"softmax\"))\n",
        "\n",
        "  model.compile(loss='binary_crossentropy',\n",
        "                optimizer=Adam(lr=0.001),\n",
        "                metrics=['accuracy'])"
      ]
    },
    {
      "cell_type": "code",
      "execution_count": null,
      "metadata": {
        "id": "1rYIlH8dTdaA"
      },
      "outputs": [],
      "source": [
        "  print(model.summary())\n",
        "  history = model.fit(X_train, y_train, epochs=n_epchs,validation_data=(X_test, y_test))\n",
        "  lst_histories.append(history)\n",
        ""
      ]
    },
    {
      "cell_type": "code",
      "execution_count": null,
      "metadata": {
        "colab": {
          "base_uri": "https://localhost:8080/"
        },
        "id": "8L2tDcquTh-K",
        "outputId": "be6f1623-9366-409e-f651-e0d91bac6528"
      },
      "outputs": [
        {
          "name": "stdout",
          "output_type": "stream",
          "text": [
            "1/1 [==============================] - 0s 1ms/step - loss: 0.6990 - accuracy: 0.3750\n"
          ]
        }
      ],
      "source": [
        "  test_loss, test_acc=model.evaluate(X_test,y_test)\n",
        "  lst_loss.append(test_loss)\n",
        "  lst_acc.append(test_acc)\n",
        ""
      ]
    },
    {
      "cell_type": "code",
      "execution_count": null,
      "metadata": {
        "colab": {
          "base_uri": "https://localhost:8080/"
        },
        "id": "qQvN4FBcTe8L",
        "outputId": "ec87447d-a559-437f-82ef-e1e30ea8e7a4"
      },
      "outputs": [
        {
          "name": "stderr",
          "output_type": "stream",
          "text": [
            "/usr/local/lib/python3.6/dist-packages/sklearn/metrics/_classification.py:1272: UndefinedMetricWarning: Precision and F-score are ill-defined and being set to 0.0 in labels with no predicted samples. Use `zero_division` parameter to control this behavior.\n",
            "  _warn_prf(average, modifier, msg_start, len(result))\n"
          ]
        }
      ],
      "source": [
        "\n",
        "from sklearn.metrics import roc_curve, auc, roc_auc_score\n",
        "predicts=model.predict(X_test)\n",
        "predicts=predicts.argmax(axis=1)\n",
        "actuals=y_test.argmax(axis=1)\n",
        "\n",
        "fpr,tpr,thr=roc_curve(actuals,predicts)\n",
        "a=auc(fpr,tpr)\n",
        "lst_AUC.append(a)\n",
        "r=classification_report(actuals,predicts)\n",
        "lst_reports.append(r)\n",
        "c=confusion_matrix(actuals,predicts)\n",
        "lst_matrix.append(c)\n",
        "\n",
        "counter+=1"
      ]
    },
    {
      "cell_type": "code",
      "execution_count": null,
      "metadata": {
        "colab": {
          "base_uri": "https://localhost:8080/",
          "height": 541
        },
        "id": "e02qwYppTlS_",
        "outputId": "b35cfcda-0acf-4174-b591-ffe27884d271"
      },
      "outputs": [
        {
          "data": {
            "image/png": "[encoded data removed]",
            "text/plain": [
              "<Figure size 432x288 with 1 Axes>"
            ]
          },
          "metadata": {
            "tags": []
          },
          "output_type": "display_data"
        },
        {
          "data": {
            "image/png": "[encoded data removed]",
            "text/plain": [
              "<Figure size 432x288 with 1 Axes>"
            ]
          },
          "metadata": {
            "tags": []
          },
          "output_type": "display_data"
        }
      ],
      "source": [
        "NetPlot(lst_histories,n_epchs)"
      ]
    },
    {
      "cell_type": "code",
      "execution_count": null,
      "metadata": {
        "id": "Zc7OsLGWToKs"
      },
      "outputs": [],
      "source": [
        "acc_avg=str(np.sum(lst_acc)/10)\n",
        "loss_avg=str(np.sum(lst_loss)/10)\n",
        "AUC_avg=str(np.sum(lst_AUC)/10)\n",
        "\n",
        "acc=str(lst_acc)\n",
        "loss=str(lst_loss)\n",
        "AUC=str(lst_AUC)\n",
        "\n",
        "results_path='/content/results.txt'\n",
        "f1=open(results_path,'a')\n",
        "f1.write('Avergae Accuracy: '+acc_avg+'\\n'+'Average Loss: '+loss_avg+'\\n'+'Average AUc: '+AUC_avg+'\\n')\n",
        "f1.write('\\nAccuracies: '+acc+'\\n'+'Losses: '+loss+'\\n'+'AUCs: '+AUC+'\\n')\n",
        "f1.write('\\n\\nMetrics for all folds: \\n\\n')\n",
        "for i in range(len(lst_reports)):\n",
        "    f1.write(str(lst_reports[i]))\n",
        "    f1.write('\\n\\nCofusion Matrix: \\n'+str(lst_matrix[i])+'\\n\\n__________________________________________________________\\n')\n",
        "\n",
        "f1.close()\n",
        "\n",
        "print(lst_loss)\n",
        "print(lst_acc)\n",
        "print(lst_reports)\n",
        "print(lst_AUC)\n",
        "print(lst_matrix)\n",
        "print(lst_histories)"
      ]
    },
    {
      "cell_type": "code",
      "execution_count": null,
      "metadata": {
        "id": "P72pfg2Ashpl"
      },
      "outputs": [],
      "source": [
        "import matplotlib.pyplot as plt\n",
        "\n",
        "plt.plot(history.history['accuracy'])\n",
        "plt.title('model accuracy')\n",
        "plt.ylabel('accuracy')\n",
        "plt.xlabel('epoch')\n",
        "\n",
        "plt.show()"
      ]
    }
  ],
  "metadata": {
    "colab": {
      "provenance": [],
      "include_colab_link": true
    },
    "kernelspec": {
      "display_name": "Python 3",
      "name": "python3"
    }
  },
  "nbformat": 4,
  "nbformat_minor": 0
}